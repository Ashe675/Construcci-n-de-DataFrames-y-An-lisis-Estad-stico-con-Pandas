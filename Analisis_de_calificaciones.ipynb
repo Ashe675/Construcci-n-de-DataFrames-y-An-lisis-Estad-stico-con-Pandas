{
 "cells": [
  {
   "cell_type": "markdown",
   "id": "acccfcbf-b7fe-49c1-b9a2-a78caf77253a",
   "metadata": {},
   "source": [
    "# Construcción de DataFrames y Análisis Estadístico con Pandas"
   ]
  },
  {
   "cell_type": "markdown",
   "id": "6098eb81-4bf2-4a86-9a7a-b5f21653e105",
   "metadata": {},
   "source": [
    "## Primero Importamos la libreria Pandas y Random"
   ]
  },
  {
   "cell_type": "code",
   "execution_count": 7,
   "id": "c6218bec-2314-45fe-9ca9-923984402043",
   "metadata": {},
   "outputs": [],
   "source": [
    "import pandas as pd\n",
    "import random"
   ]
  },
  {
   "cell_type": "markdown",
   "id": "8f145a51-6786-4cc9-881a-7937282fc2b4",
   "metadata": {},
   "source": [
    "## Definimos una lista llamada calificaciones y usamos un for para poblarla con numero aleatorios entre 0 y 100"
   ]
  },
  {
   "cell_type": "code",
   "execution_count": 22,
   "id": "a6dc5ae4-ffb1-4bce-bf20-9dfb16e7eeb7",
   "metadata": {},
   "outputs": [
    {
     "data": {
      "text/plain": [
       "3000"
      ]
     },
     "execution_count": 22,
     "metadata": {},
     "output_type": "execute_result"
    }
   ],
   "source": [
    "calificaciones = []\n",
    "for i in range(3000):\n",
    "    calificaciones.append(random.randint(0,100))\n",
    "\n",
    "len(calificaciones)"
   ]
  },
  {
   "cell_type": "markdown",
   "id": "014aa6be-3eb0-4981-9ea4-8f0903a5bef8",
   "metadata": {},
   "source": [
    "## Definimos una lista llamada estudiantes y usamos un for para poblarla con nombres aleatorios usando la funcion choice de random"
   ]
  },
  {
   "cell_type": "code",
   "execution_count": 20,
   "id": "64fff887-7538-4315-b4ce-c3c3092fe0f5",
   "metadata": {},
   "outputs": [
    {
     "data": {
      "text/plain": [
       "3000"
      ]
     },
     "execution_count": 20,
     "metadata": {},
     "output_type": "execute_result"
    }
   ],
   "source": [
    "estudiantes = []\n",
    "nombres = ['Luis', 'Pedro', 'Jose', 'Mario', 'Ana', 'Diana', 'Malena', 'Grace']\n",
    "appellidos = ['Zamora', 'Guillermo', 'Rodriguez', 'Lozano', 'Cerrato', 'Dominguez', 'Caceres', 'Barahona']\n",
    "for i in range(3000):\n",
    "    estudiantes.append(random.choice(nombres) + ' ' + random.choice(appellidos))\n",
    "\n",
    "len(estudiantes)"
   ]
  },
  {
   "cell_type": "markdown",
   "id": "c41eef01-2011-4ffa-8267-d77bc98e71be",
   "metadata": {},
   "source": [
    "## Definimos una lista llamada Materias y usamos un ciclo for para poblarla con nombres de materias aleatorios usando la funcion choice de random"
   ]
  },
  {
   "cell_type": "code",
   "execution_count": 25,
   "id": "718b6f74-4612-4b7c-b5ca-6f4f367c3df0",
   "metadata": {},
   "outputs": [
    {
     "data": {
      "text/plain": [
       "3000"
      ]
     },
     "execution_count": 25,
     "metadata": {},
     "output_type": "execute_result"
    }
   ],
   "source": [
    "materias_choices = ['Algebra', 'Geometria', 'Calculo 1', 'Programacion 1', 'Fisica 100', 'Ingles 1', 'Dibujo 1', 'Filosofia']\n",
    "materias = []\n",
    "for i in range(3000):\n",
    "    materias.append(random.choice(materias_choices))\n",
    "\n",
    "len(materias)"
   ]
  },
  {
   "cell_type": "markdown",
   "id": "38af6818-9e2a-495a-bc2c-12c92da5062a",
   "metadata": {},
   "source": [
    "## Inicializamos el dataframe llamado \"rendimiento_academico\" con los datos ateriormente recopilados y lo describimos  "
   ]
  },
  {
   "cell_type": "code",
   "execution_count": 42,
   "id": "da33bf09-b651-471d-a9c7-5a0559080429",
   "metadata": {},
   "outputs": [
    {
     "name": "stdout",
     "output_type": "stream",
     "text": [
      "           estudiante         materia  calificacion\n",
      "0        Pedro Zamora       Geometria            55\n",
      "1       Jose Barahona       Filosofia            33\n",
      "2        Luis Cerrato       Calculo 1            71\n",
      "3         Luis Lozano         Algebra            26\n",
      "4     Diana Rodriguez      Fisica 100            12\n",
      "...               ...             ...           ...\n",
      "2995   Mario Barahona       Geometria            46\n",
      "2996     Diana Lozano      Fisica 100            28\n",
      "2997     Luis Caceres  Programacion 1            45\n",
      "2998     Ana Barahona        Ingles 1            40\n",
      "2999    Grace Caceres         Algebra            83\n",
      "\n",
      "[3000 rows x 3 columns]\n"
     ]
    },
    {
     "data": {
      "text/html": [
       "<div>\n",
       "<style scoped>\n",
       "    .dataframe tbody tr th:only-of-type {\n",
       "        vertical-align: middle;\n",
       "    }\n",
       "\n",
       "    .dataframe tbody tr th {\n",
       "        vertical-align: top;\n",
       "    }\n",
       "\n",
       "    .dataframe thead th {\n",
       "        text-align: right;\n",
       "    }\n",
       "</style>\n",
       "<table border=\"1\" class=\"dataframe\">\n",
       "  <thead>\n",
       "    <tr style=\"text-align: right;\">\n",
       "      <th></th>\n",
       "      <th>calificacion</th>\n",
       "    </tr>\n",
       "  </thead>\n",
       "  <tbody>\n",
       "    <tr>\n",
       "      <th>count</th>\n",
       "      <td>3000.000000</td>\n",
       "    </tr>\n",
       "    <tr>\n",
       "      <th>mean</th>\n",
       "      <td>50.401000</td>\n",
       "    </tr>\n",
       "    <tr>\n",
       "      <th>std</th>\n",
       "      <td>29.509362</td>\n",
       "    </tr>\n",
       "    <tr>\n",
       "      <th>min</th>\n",
       "      <td>0.000000</td>\n",
       "    </tr>\n",
       "    <tr>\n",
       "      <th>25%</th>\n",
       "      <td>25.000000</td>\n",
       "    </tr>\n",
       "    <tr>\n",
       "      <th>50%</th>\n",
       "      <td>50.000000</td>\n",
       "    </tr>\n",
       "    <tr>\n",
       "      <th>75%</th>\n",
       "      <td>77.000000</td>\n",
       "    </tr>\n",
       "    <tr>\n",
       "      <th>max</th>\n",
       "      <td>100.000000</td>\n",
       "    </tr>\n",
       "  </tbody>\n",
       "</table>\n",
       "</div>"
      ],
      "text/plain": [
       "       calificacion\n",
       "count   3000.000000\n",
       "mean      50.401000\n",
       "std       29.509362\n",
       "min        0.000000\n",
       "25%       25.000000\n",
       "50%       50.000000\n",
       "75%       77.000000\n",
       "max      100.000000"
      ]
     },
     "execution_count": 42,
     "metadata": {},
     "output_type": "execute_result"
    }
   ],
   "source": [
    "rendimiento_academico = pd.DataFrame({\n",
    "    'estudiante' : estudiantes,\n",
    "    'materia' : materias,\n",
    "    'calificacion' : calificaciones\n",
    "},columns=['estudiante', 'materia', 'calificacion'])\n",
    "\n",
    "print(rendimiento_academico)\n",
    "rendimiento_academico.describe()"
   ]
  },
  {
   "cell_type": "markdown",
   "id": "478886e8-db5a-4a03-ae83-63c12bc47a52",
   "metadata": {},
   "source": [
    "## Utilizamos el método \"describe(include=['O'])\" para mostrar un resumen de las variables categóricas"
   ]
  },
  {
   "cell_type": "code",
   "execution_count": 44,
   "id": "e3677c33-c690-4e4c-94d9-bde5284ee845",
   "metadata": {},
   "outputs": [
    {
     "name": "stdout",
     "output_type": "stream",
     "text": [
      "          estudiante    materia\n",
      "count           3000       3000\n",
      "unique            64          8\n",
      "top     Grace Lozano  Filosofia\n",
      "freq              65        391\n"
     ]
    }
   ],
   "source": [
    "resumen_categorias = rendimiento_academico.describe(include=['O'])\n",
    "print(resumen_categorias)"
   ]
  },
  {
   "cell_type": "markdown",
   "id": "712e0f9b-ded5-4e32-b178-3bc09a31dc5b",
   "metadata": {},
   "source": [
    "## Utilizamos el método \"value_counts\" para mostrar la frecuencia de los nombres de los estudiantes "
   ]
  },
  {
   "cell_type": "code",
   "execution_count": 53,
   "id": "e5849309-57ff-44f8-a985-426bd3e3c04f",
   "metadata": {},
   "outputs": [
    {
     "name": "stdout",
     "output_type": "stream",
     "text": [
      "estudiante\n",
      "Grace Lozano       65\n",
      "Diana Zamora       59\n",
      "Malena Caceres     58\n",
      "Diana Lozano       54\n",
      "Luis Dominguez     53\n",
      "                   ..\n",
      "Diana Barahona     37\n",
      "Mario Guillermo    36\n",
      "Jose Caceres       34\n",
      "Malena Barahona    32\n",
      "Luis Cerrato       31\n",
      "Name: count, Length: 64, dtype: int64\n"
     ]
    }
   ],
   "source": [
    "print(rendimiento_academico['estudiante'].value_counts())\n"
   ]
  },
  {
   "cell_type": "markdown",
   "id": "5f66908c-a38d-4427-9198-63d2dbdc908f",
   "metadata": {},
   "source": [
    "## Utilizamos el método \"value_counts\" para mostrar la frecuencia de las materias"
   ]
  },
  {
   "cell_type": "code",
   "execution_count": 55,
   "id": "fed95bb7-38a1-4e6d-a21f-9c95d45d6645",
   "metadata": {},
   "outputs": [
    {
     "name": "stdout",
     "output_type": "stream",
     "text": [
      "materia\n",
      "Filosofia         391\n",
      "Geometria         387\n",
      "Fisica 100        382\n",
      "Programacion 1    375\n",
      "Calculo 1         374\n",
      "Dibujo 1          370\n",
      "Ingles 1          363\n",
      "Algebra           358\n",
      "Name: count, dtype: int64\n"
     ]
    }
   ],
   "source": [
    "print(rendimiento_academico['materia'].value_counts())"
   ]
  },
  {
   "cell_type": "markdown",
   "id": "d611746b-22bb-42b0-aafa-734842c6d374",
   "metadata": {},
   "source": [
    "## Resumen de las variables numéricas"
   ]
  },
  {
   "cell_type": "markdown",
   "id": "fe72aca1-5978-4700-a93f-6f8ad4285eb5",
   "metadata": {},
   "source": [
    "### Primero importamos las librerías \"matplotlib.pyplot\" y \"seaborn\" que nos ayudan para mostrar gráficos en 2D"
   ]
  },
  {
   "cell_type": "code",
   "execution_count": 67,
   "id": "2d77adc0-8fbb-453f-998e-0d8883e5896c",
   "metadata": {},
   "outputs": [
    {
     "data": {
      "image/png": "[encoded data removed]",
      "text/plain": [
       "<Figure size 1000x600 with 1 Axes>"
      ]
     },
     "metadata": {},
     "output_type": "display_data"
    }
   ],
   "source": [
    "import matplotlib.pyplot as plt\n",
    "import seaborn as sns\n",
    "\n",
    "# Creando el histograma para la variable 'calificacion'\n",
    "# definimos el tamaño\n",
    "plt.figure(figsize=(10, 6))\n",
    "# Defiminos el histograma \n",
    "sns.histplot(rendimiento_academico['calificacion'], bins=10, kde=True)\n",
    "plt.title('Distribución de Calificaciones')\n",
    "plt.xlabel('Calificación')\n",
    "plt.ylabel('Frecuencia')\n",
    "plt.show()"
   ]
  },
  {
   "cell_type": "markdown",
   "id": "4ce44d08-74cf-43fd-9dfc-185dc2251cb8",
   "metadata": {},
   "source": [
    "### Mostrando el promedio de calificaciones por materia en un gráfico de caja y bigotes"
   ]
  },
  {
   "cell_type": "code",
   "execution_count": 69,
   "id": "cd9b54ac-a403-4780-9d77-d3d2c38b3e5e",
   "metadata": {},
   "outputs": [
    {
     "data": {
      "image/png": "[encoded data removed]",
      "text/plain": [
       "<Figure size 1000x600 with 1 Axes>"
      ]
     },
     "metadata": {},
     "output_type": "display_data"
    }
   ],
   "source": [
    "# Creando un gráfico de caja y bigotes para las calificaciones por materia\n",
    "# Definimos el tamaño\n",
    "plt.figure(figsize=(10, 6))\n",
    "# Definimos el gráfico de caja y bigotes con sus ejes y la data \n",
    "sns.boxplot(x='materia', y='calificacion', data=rendimiento_academico)\n",
    "# Le damos un título\n",
    "plt.title('Resumen de Calificaciones por Materia')\n",
    "# Le asignamos nombre al eje X\n",
    "plt.xlabel('Materia')\n",
    "# Le asignamos nombre al eje Y\n",
    "plt.ylabel('Calificación')\n",
    "# Lo mostramos\n",
    "plt.show()"
   ]
  },
  {
   "cell_type": "markdown",
   "id": "a27301e1-50db-4107-a9d5-3995cdd758b6",
   "metadata": {},
   "source": [
    "### Mostrando al estudiante con la nota más alta"
   ]
  },
  {
   "cell_type": "code",
   "execution_count": 89,
   "id": "187ac4a1-0028-4f67-ba7e-d5af8885259b",
   "metadata": {},
   "outputs": [
    {
     "name": "stdout",
     "output_type": "stream",
     "text": [
      "El estudiante con la nota más alta es: Grace Zamora\n",
      "Detalles del estudiante con la nota más alta:\n",
      "estudiante      Grace Zamora\n",
      "materia             Ingles 1\n",
      "calificacion             100\n",
      "Name: 107, dtype: object\n"
     ]
    }
   ],
   "source": [
    "# Encontrar la nota más alta\n",
    "nota_mas_alta = rendimiento_academico['calificacion'].max()\n",
    "indice_nota_mas_alta = rendimiento_academico['calificacion'].idxmax()\n",
    "\n",
    "# Obtener los detalles de la fila con la nota más alta\n",
    "detalle_nota = rendimiento_academico.loc[indice_nota_mas_alta]\n",
    "estudiante = detalle_nota['estudiante']\n",
    "\n",
    "print(f\"El estudiante con la nota más alta es: {estudiante}\")\n",
    "print(\"Detalles del estudiante con la nota más alta:\")\n",
    "print(detalle_nota)"
   ]
  },
  {
   "cell_type": "code",
   "execution_count": null,
   "id": "8c9e9e32-820a-44fd-85d1-5b3f3a534c85",
   "metadata": {},
   "outputs": [],
   "source": []
  }
 ],
 "metadata": {
  "kernelspec": {
   "display_name": "Python 3 (ipykernel)",
   "language": "python",
   "name": "python3"
  },
  "language_info": {
   "codemirror_mode": {
    "name": "ipython",
    "version": 3
   },
   "file_extension": ".py",
   "mimetype": "text/x-python",
   "name": "python",
   "nbconvert_exporter": "python",
   "pygments_lexer": "ipython3",
   "version": "3.11.5"
  }
 },
 "nbformat": 4,
 "nbformat_minor": 5
}
